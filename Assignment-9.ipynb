{
  "nbformat": 4,
  "nbformat_minor": 0,
  "metadata": {
    "colab": {
      "name": "Assignment-9.ipynb",
      "version": "0.3.2",
      "provenance": [],
      "collapsed_sections": [],
      "include_colab_link": true
    },
    "kernelspec": {
      "name": "python3",
      "display_name": "Python 3"
    }
  },
  "cells": [
    {
      "cell_type": "markdown",
      "metadata": {
        "id": "view-in-github",
        "colab_type": "text"
      },
      "source": [
        "<a href=\"https://colab.research.google.com/github/cba-dat-sem4-python-group/Assignment-9/blob/master/Assignment-9.ipynb\" target=\"_parent\"><img src=\"https://colab.research.google.com/assets/colab-badge.svg\" alt=\"Open In Colab\"/></a>"
      ]
    },
    {
      "metadata": {
        "id": "o202VVUJQ_YT",
        "colab_type": "text"
      },
      "cell_type": "markdown",
      "source": [
        "# Assignment 9\n",
        "\n",
        "[]()"
      ]
    },
    {
      "metadata": {
        "id": "ONlC4AFqQGZD",
        "colab_type": "text"
      },
      "cell_type": "markdown",
      "source": [
        "## Firstly load the fashion_mnist dataset from keras.datasets. Secondly define the training and testing data"
      ]
    },
    {
      "metadata": {
        "id": "P2MoRHKQQHbD",
        "colab_type": "code",
        "colab": {}
      },
      "cell_type": "code",
      "source": [
        "import tensorflow as tf\n",
        "mnist = tf.keras.datasets.fashion_mnist\n",
        "\n",
        "(x_train, y_train),(x_test, y_test) = mnist.load_data()\n",
        "x_train = tf.keras.utils.normalize(x_train, axis=1)\n",
        "x_test = tf.keras.utils.normalize(x_test, axis=1)"
      ],
      "execution_count": 0,
      "outputs": []
    },
    {
      "metadata": {
        "id": "UuJ75em1QJDr",
        "colab_type": "text"
      },
      "cell_type": "markdown",
      "source": [
        "## Build the model and train (fit) it with training images and determine the test accuracy"
      ]
    },
    {
      "metadata": {
        "id": "1PgWaYeYQOsk",
        "colab_type": "code",
        "outputId": "d1cf037e-afee-4f5c-a727-701a1ee3cc8e",
        "colab": {
          "base_uri": "https://localhost:8080/",
          "height": 221
        }
      },
      "cell_type": "code",
      "source": [
        "model = tf.keras.models.Sequential([\n",
        "  tf.keras.layers.Flatten(input_shape=(28, 28)),\n",
        "  tf.keras.layers.Dense(512, activation=tf.nn.relu),\n",
        "  tf.keras.layers.Dropout(0.2),\n",
        "  tf.keras.layers.Dense(10, activation=tf.nn.softmax)\n",
        "])\n",
        "model.compile(optimizer='adam',\n",
        "              loss='sparse_categorical_crossentropy',\n",
        "              metrics=['accuracy'])\n",
        "\n",
        "model.fit(x_train, y_train, epochs=5)\n",
        "loss, accuracy = model.evaluate(x_test, y_test)\n",
        "print('The test accuracy is ', accuracy)"
      ],
      "execution_count": 5,
      "outputs": [
        {
          "output_type": "stream",
          "text": [
            "Epoch 1/5\n",
            "60000/60000 [==============================] - 13s 218us/sample - loss: 0.4886 - acc: 0.8224\n",
            "Epoch 2/5\n",
            "60000/60000 [==============================] - 13s 218us/sample - loss: 0.3691 - acc: 0.8642\n",
            "Epoch 3/5\n",
            "60000/60000 [==============================] - 13s 211us/sample - loss: 0.3345 - acc: 0.8753\n",
            "Epoch 4/5\n",
            "60000/60000 [==============================] - 13s 211us/sample - loss: 0.3111 - acc: 0.8835\n",
            "Epoch 5/5\n",
            "60000/60000 [==============================] - 13s 211us/sample - loss: 0.2919 - acc: 0.8892\n",
            "10000/10000 [==============================] - 1s 57us/sample - loss: 0.3356 - acc: 0.8775\n",
            "The test accuracy is  0.8775\n"
          ],
          "name": "stdout"
        }
      ]
    },
    {
      "metadata": {
        "id": "CHEsRJPiQj2r",
        "colab_type": "text"
      },
      "cell_type": "markdown",
      "source": [
        "## Randomly select some testing images and classify them"
      ]
    },
    {
      "metadata": {
        "id": "JIv7eYdiQklf",
        "colab_type": "code",
        "outputId": "9aad11f1-c9dd-41a7-bf23-ed099954c920",
        "colab": {
          "base_uri": "https://localhost:8080/",
          "height": 2707
        }
      },
      "cell_type": "code",
      "source": [
        "import numpy as np\n",
        "import random as rand\n",
        "import matplotlib.pyplot as plt\n",
        "\n",
        "labels = ['T-shirt/top','Trouser', 'Pullover', 'Dress', 'Coat', 'Sandal', 'Shirt', 'Sneaker', 'Bag', 'Ankle boot']\n",
        "predictions = model.predict([x_test])\n",
        "\n",
        "for _ in range(10):\n",
        "  predict = rand.randint(0, len(predictions))\n",
        "\n",
        "  print(labels[np.argmax(predictions[predict])])\n",
        "  plt.imshow(x_test[predict], cmap = plt.cm.binary)\n",
        "  plt.show()"
      ],
      "execution_count": 3,
      "outputs": [
        {
          "output_type": "stream",
          "text": [
            "Ankle boot\n"
          ],
          "name": "stdout"
        },
        {
          "output_type": "display_data",
          "data": {
            "image/png": "[encoded data removed]",
            "text/plain": [
              "<Figure size 432x288 with 1 Axes>"
            ]
          },
          "metadata": {
            "tags": []
          }
        },
        {
          "output_type": "stream",
          "text": [
            "Trouser\n"
          ],
          "name": "stdout"
        },
        {
          "output_type": "display_data",
          "data": {
            "image/png": "[encoded data removed]",
            "text/plain": [
              "<Figure size 432x288 with 1 Axes>"
            ]
          },
          "metadata": {
            "tags": []
          }
        },
        {
          "output_type": "stream",
          "text": [
            "Shirt\n"
          ],
          "name": "stdout"
        },
        {
          "output_type": "display_data",
          "data": {
            "image/png": "[encoded data removed]",
            "text/plain": [
              "<Figure size 432x288 with 1 Axes>"
            ]
          },
          "metadata": {
            "tags": []
          }
        },
        {
          "output_type": "stream",
          "text": [
            "Ankle boot\n"
          ],
          "name": "stdout"
        },
        {
          "output_type": "display_data",
          "data": {
            "image/png": "[encoded data removed]",
            "text/plain": [
              "<Figure size 432x288 with 1 Axes>"
            ]
          },
          "metadata": {
            "tags": []
          }
        },
        {
          "output_type": "stream",
          "text": [
            "Sneaker\n"
          ],
          "name": "stdout"
        },
        {
          "output_type": "display_data",
          "data": {
            "image/png": "[encoded data removed]",
            "text/plain": [
              "<Figure size 432x288 with 1 Axes>"
            ]
          },
          "metadata": {
            "tags": []
          }
        },
        {
          "output_type": "stream",
          "text": [
            "Coat\n"
          ],
          "name": "stdout"
        },
        {
          "output_type": "display_data",
          "data": {
            "image/png": "[encoded data removed]",
            "text/plain": [
              "<Figure size 432x288 with 1 Axes>"
            ]
          },
          "metadata": {
            "tags": []
          }
        },
        {
          "output_type": "stream",
          "text": [
            "Bag\n"
          ],
          "name": "stdout"
        },
        {
          "output_type": "display_data",
          "data": {
            "image/png": "[encoded data removed]",
            "text/plain": [
              "<Figure size 432x288 with 1 Axes>"
            ]
          },
          "metadata": {
            "tags": []
          }
        },
        {
          "output_type": "stream",
          "text": [
            "Ankle boot\n"
          ],
          "name": "stdout"
        },
        {
          "output_type": "display_data",
          "data": {
            "image/png": "[encoded data removed]",
            "text/plain": [
              "<Figure size 432x288 with 1 Axes>"
            ]
          },
          "metadata": {
            "tags": []
          }
        },
        {
          "output_type": "stream",
          "text": [
            "Coat\n"
          ],
          "name": "stdout"
        },
        {
          "output_type": "display_data",
          "data": {
            "image/png": "[encoded data removed]",
            "text/plain": [
              "<Figure size 432x288 with 1 Axes>"
            ]
          },
          "metadata": {
            "tags": []
          }
        },
        {
          "output_type": "stream",
          "text": [
            "Shirt\n"
          ],
          "name": "stdout"
        },
        {
          "output_type": "display_data",
          "data": {
            "image/png": "[encoded data removed]",
            "text/plain": [
              "<Figure size 432x288 with 1 Axes>"
            ]
          },
          "metadata": {
            "tags": []
          }
        }
      ]
    },
    {
      "metadata": {
        "id": "pv1fWqeUQqBa",
        "colab_type": "text"
      },
      "cell_type": "markdown",
      "source": [
        "## Review Questions\n",
        "\n",
        "* Was the dataset loaded properly? Was the training and test data defined?\n",
        "* Was the test accuracy determined?\n",
        "* Were all the selected images classified?"
      ]
    }
  ]
}